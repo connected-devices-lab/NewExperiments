{
  "nbformat": 4,
  "nbformat_minor": 0,
  "metadata": {
    "colab": {
      "name": "codelabbasemodel.ipynb",
      "provenance": [],
      "collapsed_sections": []
    },
    "kernelspec": {
      "name": "python3",
      "display_name": "Python 3"
    },
    "accelerator": "GPU"
  },
  "cells": [
    {
      "cell_type": "code",
      "metadata": {
        "id": "vkIcgnCsFVSv",
        "colab_type": "code",
        "colab": {
          "base_uri": "https://localhost:8080/",
          "height": 131
        },
        "outputId": "20e205f8-4996-480a-f703-6e77de69c172"
      },
      "source": [
        "from google.colab import drive\n",
        "drive.mount('/content/drive')"
      ],
      "execution_count": 1,
      "outputs": [
        {
          "output_type": "stream",
          "text": [
            "Go to this URL in a browser: https://accounts.google.com/o/oauth2/auth?client_id=947318989803-6bn6qk8qdgf4n4g3pfee6491hc0brc4i.apps.googleusercontent.com&redirect_uri=urn%3aietf%3awg%3aoauth%3a2.0%3aoob&response_type=code&scope=email%20https%3a%2f%2fwww.googleapis.com%2fauth%2fdocs.test%20https%3a%2f%2fwww.googleapis.com%2fauth%2fdrive%20https%3a%2f%2fwww.googleapis.com%2fauth%2fdrive.photos.readonly%20https%3a%2f%2fwww.googleapis.com%2fauth%2fpeopleapi.readonly\n",
            "\n",
            "Enter your authorization code:\n",
            "··········\n",
            "Mounted at /content/drive\n"
          ],
          "name": "stdout"
        }
      ]
    },
    {
      "cell_type": "code",
      "metadata": {
        "id": "fr39decAFhcM",
        "colab_type": "code",
        "colab": {
          "base_uri": "https://localhost:8080/",
          "height": 84
        },
        "outputId": "8da7caf7-e224-4ae3-dfbc-c85ca529d394"
      },
      "source": [
        "from tensorflow.keras.applications import VGG16\n",
        "from tensorflow.keras.preprocessing.image import ImageDataGenerator\n",
        "%pylab inline\n",
        "from tensorflow.keras.models import Sequential\n",
        "from tensorflow.keras.layers import Dense, Dropout, Flatten\n",
        "from tensorflow.keras import optimizers"
      ],
      "execution_count": 2,
      "outputs": [
        {
          "output_type": "display_data",
          "data": {
            "text/html": [
              "<p style=\"color: red;\">\n",
              "The default version of TensorFlow in Colab will soon switch to TensorFlow 2.x.<br>\n",
              "We recommend you <a href=\"https://www.tensorflow.org/guide/migrate\" target=\"_blank\">upgrade</a> now \n",
              "or ensure your notebook will continue to use TensorFlow 1.x via the <code>%tensorflow_version 1.x</code> magic:\n",
              "<a href=\"https://colab.research.google.com/notebooks/tensorflow_version.ipynb\" target=\"_blank\">more info</a>.</p>\n"
            ],
            "text/plain": [
              "<IPython.core.display.HTML object>"
            ]
          },
          "metadata": {
            "tags": []
          }
        },
        {
          "output_type": "stream",
          "text": [
            "Populating the interactive namespace from numpy and matplotlib\n"
          ],
          "name": "stdout"
        }
      ]
    },
    {
      "cell_type": "code",
      "metadata": {
        "id": "mn6IH0rtK7Vd",
        "colab_type": "code",
        "colab": {}
      },
      "source": [
        "model = Sequential()"
      ],
      "execution_count": 0,
      "outputs": []
    },
    {
      "cell_type": "code",
      "metadata": {
        "id": "vTSiG3uwFh95",
        "colab_type": "code",
        "colab": {
          "base_uri": "https://localhost:8080/",
          "height": 131
        },
        "outputId": "04ebe7d4-1988-45e5-edfe-3cd03a43f38c"
      },
      "source": [
        "conv_base = VGG16(weights='imagenet', include_top=False, input_shape=(512, 512, 3))"
      ],
      "execution_count": 4,
      "outputs": [
        {
          "output_type": "stream",
          "text": [
            "WARNING:tensorflow:From /usr/local/lib/python3.6/dist-packages/tensorflow_core/python/ops/resource_variable_ops.py:1630: calling BaseResourceVariable.__init__ (from tensorflow.python.ops.resource_variable_ops) with constraint is deprecated and will be removed in a future version.\n",
            "Instructions for updating:\n",
            "If using Keras pass *_constraint arguments to layers.\n",
            "Downloading data from https://github.com/fchollet/deep-learning-models/releases/download/v0.1/vgg16_weights_tf_dim_ordering_tf_kernels_notop.h5\n",
            "58892288/58889256 [==============================] - 2s 0us/step\n"
          ],
          "name": "stdout"
        }
      ]
    },
    {
      "cell_type": "code",
      "metadata": {
        "id": "oz1xiHzeLP1b",
        "colab_type": "code",
        "colab": {}
      },
      "source": [
        "model.add(conv_base)\n",
        "model.add(Flatten())\n",
        "model.add(Dense(units=256, activation='relu'))\n",
        "model.add(Dense(units=3, activation='sigmoid'))"
      ],
      "execution_count": 0,
      "outputs": []
    },
    {
      "cell_type": "code",
      "metadata": {
        "id": "t48StG5CLQvT",
        "colab_type": "code",
        "colab": {
          "base_uri": "https://localhost:8080/",
          "height": 317
        },
        "outputId": "ce68b3d9-b91f-4dc9-81a3-8d1794f01b1b"
      },
      "source": [
        "model.summary()"
      ],
      "execution_count": 6,
      "outputs": [
        {
          "output_type": "stream",
          "text": [
            "Model: \"sequential\"\n",
            "_________________________________________________________________\n",
            "Layer (type)                 Output Shape              Param #   \n",
            "=================================================================\n",
            "vgg16 (Model)                (None, 16, 16, 512)       14714688  \n",
            "_________________________________________________________________\n",
            "flatten (Flatten)            (None, 131072)            0         \n",
            "_________________________________________________________________\n",
            "dense (Dense)                (None, 256)               33554688  \n",
            "_________________________________________________________________\n",
            "dense_1 (Dense)              (None, 3)                 771       \n",
            "=================================================================\n",
            "Total params: 48,270,147\n",
            "Trainable params: 48,270,147\n",
            "Non-trainable params: 0\n",
            "_________________________________________________________________\n"
          ],
          "name": "stdout"
        }
      ]
    },
    {
      "cell_type": "code",
      "metadata": {
        "id": "58GAqP1kLU41",
        "colab_type": "code",
        "colab": {}
      },
      "source": [
        "conv_base.trainable = False"
      ],
      "execution_count": 0,
      "outputs": []
    },
    {
      "cell_type": "code",
      "metadata": {
        "id": "-OJHXknSLgpt",
        "colab_type": "code",
        "colab": {}
      },
      "source": [
        "model.compile(loss='categorical_crossentropy', optimizer=optimizers.RMSprop(lr=2e-5), metrics=['accuracy'])"
      ],
      "execution_count": 0,
      "outputs": []
    },
    {
      "cell_type": "code",
      "metadata": {
        "id": "YK6gqrp1NA2d",
        "colab_type": "code",
        "colab": {}
      },
      "source": [
        "train_path='drive/My Drive/CODELABS/dataset_updated/train/'\n",
        "validation_path='drive/My Drive/CODELABS/dataset_updated/validation/'\n",
        "test_path='drive/My Drive/CODELABS/dataset_updated/test/'\n",
        "train_datagen = ImageDataGenerator(rotation_range=40,shear_range=0.2,width_shift_range=0.2, height_shift_range=0.2,zoom_range=0.2,horizontal_flip=True,rescale=1./255)\n",
        "validation_datagen = ImageDataGenerator(rescale=1./255)\n",
        "test_datagen = ImageDataGenerator(rotation_range=40,shear_range=0.2,width_shift_range=0.2, height_shift_range=0.2,zoom_range=0.2,horizontal_flip=True,rescale=1./255)"
      ],
      "execution_count": 0,
      "outputs": []
    },
    {
      "cell_type": "code",
      "metadata": {
        "id": "LXzkXA2uNGsN",
        "colab_type": "code",
        "colab": {
          "base_uri": "https://localhost:8080/",
          "height": 111
        },
        "outputId": "8d8ac157-e5a7-46aa-de1e-434ebfd8eaa6"
      },
      "source": [
        "train_generator = train_datagen.flow_from_directory(train_path,target_size=(512, 512),batch_size=32, class_mode='categorical')\n",
        "validation_generator = train_datagen.flow_from_directory(validation_path,target_size=(512, 512),batch_size=32,class_mode='categorical')\n",
        "test_generator = test_datagen.flow_from_directory(test_path,target_size=(512, 512),batch_size=32,class_mode='categorical')"
      ],
      "execution_count": 10,
      "outputs": [
        {
          "output_type": "stream",
          "text": [
            "/usr/local/lib/python3.6/dist-packages/keras_preprocessing/image/utils.py:173: UserWarning: Using \".tiff\" files with multiple bands will cause distortion. Please verify your output.\n",
            "  warnings.warn('Using \".tiff\" files with multiple bands '\n"
          ],
          "name": "stderr"
        },
        {
          "output_type": "stream",
          "text": [
            "Found 1729 images belonging to 3 classes.\n",
            "Found 690 images belonging to 3 classes.\n",
            "Found 654 images belonging to 3 classes.\n"
          ],
          "name": "stdout"
        }
      ]
    },
    {
      "cell_type": "code",
      "metadata": {
        "id": "Gb0UkziYOV2V",
        "colab_type": "code",
        "colab": {
          "base_uri": "https://localhost:8080/",
          "height": 1000
        },
        "outputId": "483d205c-8153-4954-8439-7973d3cf90b4"
      },
      "source": [
        "history = model.fit_generator(train_generator, steps_per_epoch=100, epochs=30, validation_data=validation_generator, validation_steps=50)"
      ],
      "execution_count": 12,
      "outputs": [
        {
          "output_type": "stream",
          "text": [
            "Epoch 1/30\n",
            " 99/100 [============================>.] - ETA: 1s - loss: 0.4808 - acc: 0.8017Epoch 1/30\n",
            "100/100 [==============================] - 290s 3s/step - loss: 0.4828 - acc: 0.8008 - val_loss: 2.0716 - val_acc: 0.2920\n",
            "Epoch 2/30\n",
            " 99/100 [============================>.] - ETA: 1s - loss: 0.4689 - acc: 0.7985Epoch 1/30\n",
            "100/100 [==============================] - 272s 3s/step - loss: 0.4685 - acc: 0.7986 - val_loss: 2.1877 - val_acc: 0.2494\n",
            "Epoch 3/30\n",
            " 99/100 [============================>.] - ETA: 1s - loss: 0.4382 - acc: 0.8168Epoch 1/30\n",
            "100/100 [==============================] - 268s 3s/step - loss: 0.4359 - acc: 0.8180 - val_loss: 2.6318 - val_acc: 0.1730\n",
            "Epoch 4/30\n",
            " 99/100 [============================>.] - ETA: 1s - loss: 0.4460 - acc: 0.8202Epoch 1/30\n",
            "100/100 [==============================] - 268s 3s/step - loss: 0.4448 - acc: 0.8204 - val_loss: 2.3166 - val_acc: 0.2036\n",
            "Epoch 5/30\n",
            " 99/100 [============================>.] - ETA: 1s - loss: 0.4194 - acc: 0.8229Epoch 1/30\n",
            "100/100 [==============================] - 269s 3s/step - loss: 0.4225 - acc: 0.8212 - val_loss: 2.6175 - val_acc: 0.1139\n",
            "Epoch 6/30\n",
            " 99/100 [============================>.] - ETA: 1s - loss: 0.4248 - acc: 0.8358Epoch 1/30\n",
            "100/100 [==============================] - 259s 3s/step - loss: 0.4240 - acc: 0.8365 - val_loss: 2.0224 - val_acc: 0.2964\n",
            "Epoch 7/30\n",
            " 99/100 [============================>.] - ETA: 1s - loss: 0.3807 - acc: 0.8413Epoch 1/30\n",
            "100/100 [==============================] - 277s 3s/step - loss: 0.3798 - acc: 0.8416 - val_loss: 2.2551 - val_acc: 0.2290\n",
            "Epoch 8/30\n",
            " 99/100 [============================>.] - ETA: 1s - loss: 0.3894 - acc: 0.8464Epoch 1/30\n",
            "100/100 [==============================] - 268s 3s/step - loss: 0.3889 - acc: 0.8470 - val_loss: 2.2492 - val_acc: 0.3486\n",
            "Epoch 9/30\n",
            " 99/100 [============================>.] - ETA: 1s - loss: 0.3693 - acc: 0.8459Epoch 1/30\n",
            "100/100 [==============================] - 264s 3s/step - loss: 0.3686 - acc: 0.8462 - val_loss: 2.2923 - val_acc: 0.2163\n",
            "Epoch 10/30\n",
            " 99/100 [============================>.] - ETA: 1s - loss: 0.3571 - acc: 0.8581Epoch 1/30\n",
            "100/100 [==============================] - 269s 3s/step - loss: 0.3578 - acc: 0.8574 - val_loss: 3.0191 - val_acc: 0.1628\n",
            "Epoch 11/30\n",
            " 99/100 [============================>.] - ETA: 1s - loss: 0.3712 - acc: 0.8493Epoch 1/30\n",
            "100/100 [==============================] - 266s 3s/step - loss: 0.3715 - acc: 0.8489 - val_loss: 2.3010 - val_acc: 0.2462\n",
            "Epoch 12/30\n",
            " 99/100 [============================>.] - ETA: 1s - loss: 0.3449 - acc: 0.8677Epoch 1/30\n",
            "100/100 [==============================] - 263s 3s/step - loss: 0.3436 - acc: 0.8687 - val_loss: 2.4316 - val_acc: 0.2767\n",
            "Epoch 13/30\n",
            " 99/100 [============================>.] - ETA: 1s - loss: 0.3623 - acc: 0.8607Epoch 1/30\n",
            "100/100 [==============================] - 271s 3s/step - loss: 0.3644 - acc: 0.8602 - val_loss: 2.1791 - val_acc: 0.2767\n",
            "Epoch 14/30\n",
            " 99/100 [============================>.] - ETA: 1s - loss: 0.3315 - acc: 0.8657Epoch 1/30\n",
            "100/100 [==============================] - 267s 3s/step - loss: 0.3324 - acc: 0.8655 - val_loss: 2.5874 - val_acc: 0.1609\n",
            "Epoch 15/30\n",
            " 99/100 [============================>.] - ETA: 1s - loss: 0.3278 - acc: 0.8625Epoch 1/30\n",
            "100/100 [==============================] - 268s 3s/step - loss: 0.3271 - acc: 0.8627 - val_loss: 2.8720 - val_acc: 0.1851\n",
            "Epoch 16/30\n",
            " 99/100 [============================>.] - ETA: 1s - loss: 0.3431 - acc: 0.8709Epoch 1/30\n",
            "100/100 [==============================] - 268s 3s/step - loss: 0.3428 - acc: 0.8713 - val_loss: 2.7076 - val_acc: 0.2220\n",
            "Epoch 17/30\n",
            " 99/100 [============================>.] - ETA: 1s - loss: 0.3266 - acc: 0.8757Epoch 1/30\n",
            "100/100 [==============================] - 262s 3s/step - loss: 0.3270 - acc: 0.8754 - val_loss: 2.6466 - val_acc: 0.2036\n",
            "Epoch 18/30\n",
            " 99/100 [============================>.] - ETA: 1s - loss: 0.3141 - acc: 0.8738Epoch 1/30\n",
            "100/100 [==============================] - 278s 3s/step - loss: 0.3134 - acc: 0.8735 - val_loss: 3.0003 - val_acc: 0.2379\n",
            "Epoch 19/30\n",
            " 99/100 [============================>.] - ETA: 1s - loss: 0.3489 - acc: 0.8699Epoch 1/30\n",
            "100/100 [==============================] - 267s 3s/step - loss: 0.3477 - acc: 0.8706 - val_loss: 2.5725 - val_acc: 0.1794\n",
            "Epoch 20/30\n",
            " 99/100 [============================>.] - ETA: 1s - loss: 0.3329 - acc: 0.8763Epoch 1/30\n",
            "100/100 [==============================] - 270s 3s/step - loss: 0.3329 - acc: 0.8763 - val_loss: 2.3382 - val_acc: 0.2812\n",
            "Epoch 21/30\n",
            " 99/100 [============================>.] - ETA: 1s - loss: 0.3071 - acc: 0.8838Epoch 1/30\n",
            "100/100 [==============================] - 268s 3s/step - loss: 0.3073 - acc: 0.8830 - val_loss: 2.8756 - val_acc: 0.2220\n",
            "Epoch 22/30\n",
            " 99/100 [============================>.] - ETA: 1s - loss: 0.3019 - acc: 0.8818Epoch 1/30\n",
            "100/100 [==============================] - 269s 3s/step - loss: 0.3009 - acc: 0.8818 - val_loss: 2.6943 - val_acc: 0.2201\n",
            "Epoch 23/30\n",
            " 99/100 [============================>.] - ETA: 1s - loss: 0.3140 - acc: 0.8783Epoch 1/30\n",
            "100/100 [==============================] - 269s 3s/step - loss: 0.3159 - acc: 0.8764 - val_loss: 2.4720 - val_acc: 0.1514\n",
            "Epoch 24/30\n",
            " 99/100 [============================>.] - ETA: 1s - loss: 0.2929 - acc: 0.8783Epoch 1/30\n",
            "100/100 [==============================] - 276s 3s/step - loss: 0.2929 - acc: 0.8779 - val_loss: 2.4860 - val_acc: 0.2551\n",
            "Epoch 25/30\n",
            " 99/100 [============================>.] - ETA: 1s - loss: 0.2975 - acc: 0.8801Epoch 1/30\n",
            "100/100 [==============================] - 280s 3s/step - loss: 0.2963 - acc: 0.8807 - val_loss: 2.8708 - val_acc: 0.2055\n",
            "Epoch 26/30\n",
            " 99/100 [============================>.] - ETA: 1s - loss: 0.2973 - acc: 0.8844Epoch 1/30\n",
            "100/100 [==============================] - 284s 3s/step - loss: 0.2972 - acc: 0.8843 - val_loss: 2.9284 - val_acc: 0.1609\n",
            "Epoch 27/30\n",
            " 99/100 [============================>.] - ETA: 1s - loss: 0.2823 - acc: 0.8892Epoch 1/30\n",
            "100/100 [==============================] - 284s 3s/step - loss: 0.2815 - acc: 0.8891 - val_loss: 2.8662 - val_acc: 0.2691\n",
            "Epoch 28/30\n",
            " 99/100 [============================>.] - ETA: 1s - loss: 0.3275 - acc: 0.8799Epoch 1/30\n",
            "100/100 [==============================] - 277s 3s/step - loss: 0.3268 - acc: 0.8802 - val_loss: 2.5201 - val_acc: 0.3098\n",
            "Epoch 29/30\n",
            " 99/100 [============================>.] - ETA: 1s - loss: 0.3177 - acc: 0.8912Epoch 1/30\n",
            "100/100 [==============================] - 282s 3s/step - loss: 0.3163 - acc: 0.8917 - val_loss: 2.9865 - val_acc: 0.1718\n",
            "Epoch 30/30\n",
            " 99/100 [============================>.] - ETA: 1s - loss: 0.3069 - acc: 0.8857Epoch 1/30\n",
            "100/100 [==============================] - 270s 3s/step - loss: 0.3054 - acc: 0.8862 - val_loss: 2.6983 - val_acc: 0.1673\n"
          ],
          "name": "stdout"
        }
      ]
    },
    {
      "cell_type": "code",
      "metadata": {
        "id": "TY_hfZ6NO5xu",
        "colab_type": "code",
        "colab": {
          "base_uri": "https://localhost:8080/",
          "height": 545
        },
        "outputId": "c738a58e-0ea8-4cc6-8319-027506468575"
      },
      "source": [
        "acc = history.history['acc']\n",
        "val_acc = history.history['val_acc']\n",
        "loss = history.history['loss']\n",
        "val_loss = history.history['val_loss']\n",
        "epochs = range(1, len(acc) + 1)\n",
        "plt.plot(epochs, acc, 'bo', label='Training acc')\n",
        "plt.plot(epochs, val_acc, 'b', label='Validation acc')\n",
        "plt.axis([0, 30, 0, 1])\n",
        "plt.title('Training and validation accuracy')\n",
        "plt.legend()\n",
        "plt.figure()\n",
        "plt.plot(epochs, loss, 'bo', label='Training loss')\n",
        "plt.plot(epochs, val_loss, 'b', label='Validation loss')\n",
        "plt.axis([0, 30, 0, 1])\n",
        "plt.title('Training and validation loss')\n",
        "plt.legend()\n",
        "plt.show()"
      ],
      "execution_count": 13,
      "outputs": [
        {
          "output_type": "display_data",
          "data": {
            "image/png": "[encoded data removed]",
            "text/plain": [
              "<Figure size 432x288 with 1 Axes>"
            ]
          },
          "metadata": {
            "tags": []
          }
        },
        {
          "output_type": "display_data",
          "data": {
            "image/png": "[encoded data removed]",
            "text/plain": [
              "<Figure size 432x288 with 1 Axes>"
            ]
          },
          "metadata": {
            "tags": []
          }
        }
      ]
    },
    {
      "cell_type": "code",
      "metadata": {
        "id": "YOaKE0ycGkbC",
        "colab_type": "code",
        "colab": {}
      },
      "source": [
        ""
      ],
      "execution_count": 0,
      "outputs": []
    }
  ]
}