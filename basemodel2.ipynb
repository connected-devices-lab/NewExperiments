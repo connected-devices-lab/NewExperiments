{
  "nbformat": 4,
  "nbformat_minor": 0,
  "metadata": {
    "colab": {
      "name": "basemodel2.ipynb",
      "provenance": []
    },
    "kernelspec": {
      "name": "python3",
      "display_name": "Python 3"
    },
    "accelerator": "GPU"
  },
  "cells": [
    {
      "cell_type": "code",
      "metadata": {
        "id": "GLciN3yJG7L9",
        "colab_type": "code",
        "colab": {
          "base_uri": "https://localhost:8080/",
          "height": 131
        },
        "outputId": "67507d4c-1c02-4424-9c7c-d811e03944b1"
      },
      "source": [
        "from google.colab import drive\n",
        "drive.mount('/content/drive')"
      ],
      "execution_count": 1,
      "outputs": [
        {
          "output_type": "stream",
          "text": [
            "Go to this URL in a browser: https://accounts.google.com/o/oauth2/auth?client_id=947318989803-6bn6qk8qdgf4n4g3pfee6491hc0brc4i.apps.googleusercontent.com&redirect_uri=urn%3aietf%3awg%3aoauth%3a2.0%3aoob&response_type=code&scope=email%20https%3a%2f%2fwww.googleapis.com%2fauth%2fdocs.test%20https%3a%2f%2fwww.googleapis.com%2fauth%2fdrive%20https%3a%2f%2fwww.googleapis.com%2fauth%2fdrive.photos.readonly%20https%3a%2f%2fwww.googleapis.com%2fauth%2fpeopleapi.readonly\n",
            "\n",
            "Enter your authorization code:\n",
            "··········\n",
            "Mounted at /content/drive\n"
          ],
          "name": "stdout"
        }
      ]
    },
    {
      "cell_type": "code",
      "metadata": {
        "id": "ZKKyRKdKHCa_",
        "colab_type": "code",
        "colab": {
          "base_uri": "https://localhost:8080/",
          "height": 84
        },
        "outputId": "7b1e89b9-d8c0-44f5-a651-21eac7d34023"
      },
      "source": [
        "from tensorflow.keras.applications import VGG16\n",
        "from tensorflow.keras.preprocessing.image import ImageDataGenerator\n",
        "%pylab inline\n",
        "from tensorflow.keras.models import Sequential\n",
        "from tensorflow.keras.layers import Dense, Dropout, Flatten\n",
        "from tensorflow.keras import optimizers"
      ],
      "execution_count": 2,
      "outputs": [
        {
          "output_type": "display_data",
          "data": {
            "text/html": [
              "<p style=\"color: red;\">\n",
              "The default version of TensorFlow in Colab will soon switch to TensorFlow 2.x.<br>\n",
              "We recommend you <a href=\"https://www.tensorflow.org/guide/migrate\" target=\"_blank\">upgrade</a> now \n",
              "or ensure your notebook will continue to use TensorFlow 1.x via the <code>%tensorflow_version 1.x</code> magic:\n",
              "<a href=\"https://colab.research.google.com/notebooks/tensorflow_version.ipynb\" target=\"_blank\">more info</a>.</p>\n"
            ],
            "text/plain": [
              "<IPython.core.display.HTML object>"
            ]
          },
          "metadata": {
            "tags": []
          }
        },
        {
          "output_type": "stream",
          "text": [
            "Populating the interactive namespace from numpy and matplotlib\n"
          ],
          "name": "stdout"
        }
      ]
    },
    {
      "cell_type": "code",
      "metadata": {
        "id": "bhiFQGXzHEZM",
        "colab_type": "code",
        "colab": {}
      },
      "source": [
        "model = Sequential()"
      ],
      "execution_count": 0,
      "outputs": []
    },
    {
      "cell_type": "code",
      "metadata": {
        "id": "7fk3zNtfHF20",
        "colab_type": "code",
        "colab": {
          "base_uri": "https://localhost:8080/",
          "height": 131
        },
        "outputId": "c718015b-d02d-45cb-d237-b5595629e1c6"
      },
      "source": [
        "conv_base = VGG16(weights='imagenet', include_top=False, input_shape=(512, 512, 3))"
      ],
      "execution_count": 4,
      "outputs": [
        {
          "output_type": "stream",
          "text": [
            "WARNING:tensorflow:From /usr/local/lib/python3.6/dist-packages/tensorflow_core/python/ops/resource_variable_ops.py:1630: calling BaseResourceVariable.__init__ (from tensorflow.python.ops.resource_variable_ops) with constraint is deprecated and will be removed in a future version.\n",
            "Instructions for updating:\n",
            "If using Keras pass *_constraint arguments to layers.\n",
            "Downloading data from https://github.com/fchollet/deep-learning-models/releases/download/v0.1/vgg16_weights_tf_dim_ordering_tf_kernels_notop.h5\n",
            "58892288/58889256 [==============================] - 5s 0us/step\n"
          ],
          "name": "stdout"
        }
      ]
    },
    {
      "cell_type": "code",
      "metadata": {
        "id": "erBBcLufHN4c",
        "colab_type": "code",
        "colab": {}
      },
      "source": [
        "model.add(conv_base)\n",
        "model.add(Flatten())\n",
        "model.add(Dense(units=256, activation='relu'))\n",
        "model.add(Dense(units=3, activation='sigmoid'))"
      ],
      "execution_count": 0,
      "outputs": []
    },
    {
      "cell_type": "code",
      "metadata": {
        "id": "p6tx1ib-HRBn",
        "colab_type": "code",
        "colab": {
          "base_uri": "https://localhost:8080/",
          "height": 317
        },
        "outputId": "575c59f3-3dca-4f0c-aeb6-ce6b70558057"
      },
      "source": [
        "model.summary()"
      ],
      "execution_count": 6,
      "outputs": [
        {
          "output_type": "stream",
          "text": [
            "Model: \"sequential\"\n",
            "_________________________________________________________________\n",
            "Layer (type)                 Output Shape              Param #   \n",
            "=================================================================\n",
            "vgg16 (Model)                (None, 16, 16, 512)       14714688  \n",
            "_________________________________________________________________\n",
            "flatten (Flatten)            (None, 131072)            0         \n",
            "_________________________________________________________________\n",
            "dense (Dense)                (None, 256)               33554688  \n",
            "_________________________________________________________________\n",
            "dense_1 (Dense)              (None, 3)                 771       \n",
            "=================================================================\n",
            "Total params: 48,270,147\n",
            "Trainable params: 48,270,147\n",
            "Non-trainable params: 0\n",
            "_________________________________________________________________\n"
          ],
          "name": "stdout"
        }
      ]
    },
    {
      "cell_type": "code",
      "metadata": {
        "id": "5_cAfcN5HRgz",
        "colab_type": "code",
        "colab": {}
      },
      "source": [
        "conv_base.trainable = False"
      ],
      "execution_count": 0,
      "outputs": []
    },
    {
      "cell_type": "code",
      "metadata": {
        "id": "14a52zasHTQ-",
        "colab_type": "code",
        "colab": {}
      },
      "source": [
        "model.compile(loss='categorical_crossentropy', optimizer=optimizers.RMSprop(lr=2e-5), metrics=['accuracy'])"
      ],
      "execution_count": 0,
      "outputs": []
    },
    {
      "cell_type": "code",
      "metadata": {
        "id": "PJxgOYkOHUy2",
        "colab_type": "code",
        "colab": {}
      },
      "source": [
        "train_path='drive/My Drive/CODELABS/dataset_updated/train/'\n",
        "validation_path='drive/My Drive/CODELABS/dataset_updated/validation/'\n",
        "test_path='drive/My Drive/CODELABS/dataset_updated/test/'\n",
        "train_datagen = ImageDataGenerator(rotation_range=40,shear_range=0.2,width_shift_range=0.2, height_shift_range=0.2,zoom_range=0.2,horizontal_flip=True,rescale=1./255)\n",
        "validation_datagen = ImageDataGenerator(rescale=1./255)\n",
        "test_datagen = ImageDataGenerator(rotation_range=40,shear_range=0.2,width_shift_range=0.2, height_shift_range=0.2,zoom_range=0.2,horizontal_flip=True,rescale=1./255)"
      ],
      "execution_count": 0,
      "outputs": []
    },
    {
      "cell_type": "code",
      "metadata": {
        "id": "i4UoxSzWHWQd",
        "colab_type": "code",
        "colab": {
          "base_uri": "https://localhost:8080/",
          "height": 111
        },
        "outputId": "248f85b1-3201-47f2-ae5e-16c6f6cdbe80"
      },
      "source": [
        "train_generator = train_datagen.flow_from_directory(train_path,target_size=(512, 512),batch_size=32, class_mode='categorical')\n",
        "validation_generator = train_datagen.flow_from_directory(validation_path,target_size=(512, 512),batch_size=32,class_mode='categorical')\n",
        "test_generator = test_datagen.flow_from_directory(test_path,target_size=(512, 512),batch_size=32,class_mode='categorical')"
      ],
      "execution_count": 10,
      "outputs": [
        {
          "output_type": "stream",
          "text": [
            "/usr/local/lib/python3.6/dist-packages/keras_preprocessing/image/utils.py:173: UserWarning: Using \".tiff\" files with multiple bands will cause distortion. Please verify your output.\n",
            "  warnings.warn('Using \".tiff\" files with multiple bands '\n"
          ],
          "name": "stderr"
        },
        {
          "output_type": "stream",
          "text": [
            "Found 1729 images belonging to 3 classes.\n",
            "Found 690 images belonging to 3 classes.\n",
            "Found 654 images belonging to 3 classes.\n"
          ],
          "name": "stdout"
        }
      ]
    },
    {
      "cell_type": "code",
      "metadata": {
        "id": "N_p8sEasHXT_",
        "colab_type": "code",
        "colab": {
          "base_uri": "https://localhost:8080/",
          "height": 1000
        },
        "outputId": "058037fc-c6ed-43af-d630-2749a10f5ec7"
      },
      "source": [
        "history = model.fit_generator(train_generator, steps_per_epoch=100, epochs=30, validation_data=validation_generator, validation_steps=50)"
      ],
      "execution_count": 11,
      "outputs": [
        {
          "output_type": "stream",
          "text": [
            "Epoch 1/30\n",
            "WARNING:tensorflow:From /usr/local/lib/python3.6/dist-packages/tensorflow_core/python/ops/math_grad.py:1424: where (from tensorflow.python.ops.array_ops) is deprecated and will be removed in a future version.\n",
            "Instructions for updating:\n",
            "Use tf.where in 2.0, which has the same broadcast rule as np.where\n",
            " 98/100 [============================>.] - ETA: 16s - loss: 0.8451 - acc: 0.5591Epoch 1/30\n",
            "100/100 [==============================] - 1354s 14s/step - loss: 0.8478 - acc: 0.5599 - val_loss: 1.3563 - val_acc: 0.2723\n",
            "Epoch 2/30\n",
            " 99/100 [============================>.] - ETA: 1s - loss: 0.7271 - acc: 0.5668Epoch 1/30\n",
            "100/100 [==============================] - 281s 3s/step - loss: 0.7274 - acc: 0.5658 - val_loss: 1.9618 - val_acc: 0.2697\n",
            "Epoch 3/30\n",
            " 99/100 [============================>.] - ETA: 1s - loss: 0.7033 - acc: 0.6325Epoch 1/30\n",
            "100/100 [==============================] - 272s 3s/step - loss: 0.7019 - acc: 0.6337 - val_loss: 1.6213 - val_acc: 0.2894\n",
            "Epoch 4/30\n",
            " 99/100 [============================>.] - ETA: 1s - loss: 0.5605 - acc: 0.7724Epoch 1/30\n",
            "100/100 [==============================] - 275s 3s/step - loss: 0.5613 - acc: 0.7725 - val_loss: 1.7129 - val_acc: 0.3276\n",
            "Epoch 5/30\n",
            " 99/100 [============================>.] - ETA: 1s - loss: 0.5209 - acc: 0.7853Epoch 1/30\n",
            "100/100 [==============================] - 277s 3s/step - loss: 0.5202 - acc: 0.7852 - val_loss: 2.4740 - val_acc: 0.1590\n",
            "Epoch 6/30\n",
            " 99/100 [============================>.] - ETA: 1s - loss: 0.4676 - acc: 0.8078Epoch 1/30\n",
            "100/100 [==============================] - 269s 3s/step - loss: 0.4682 - acc: 0.8075 - val_loss: 2.0977 - val_acc: 0.4141\n",
            "Epoch 7/30\n",
            " 99/100 [============================>.] - ETA: 1s - loss: 0.4485 - acc: 0.8177Epoch 1/30\n",
            "100/100 [==============================] - 289s 3s/step - loss: 0.4466 - acc: 0.8177 - val_loss: 3.7958 - val_acc: 0.1698\n",
            "Epoch 8/30\n",
            " 99/100 [============================>.] - ETA: 1s - loss: 0.4278 - acc: 0.8226Epoch 1/30\n",
            "100/100 [==============================] - 280s 3s/step - loss: 0.4266 - acc: 0.8231 - val_loss: 2.3798 - val_acc: 0.1870\n",
            "Epoch 9/30\n",
            " 99/100 [============================>.] - ETA: 1s - loss: 0.4070 - acc: 0.8352Epoch 1/30\n",
            "100/100 [==============================] - 280s 3s/step - loss: 0.4077 - acc: 0.8352 - val_loss: 2.8963 - val_acc: 0.1260\n",
            "Epoch 10/30\n",
            " 99/100 [============================>.] - ETA: 1s - loss: 0.3785 - acc: 0.8444Epoch 1/30\n",
            "100/100 [==============================] - 285s 3s/step - loss: 0.3775 - acc: 0.8451 - val_loss: 2.2359 - val_acc: 0.2716\n",
            "Epoch 11/30\n",
            " 99/100 [============================>.] - ETA: 1s - loss: 0.4143 - acc: 0.8364Epoch 1/30\n",
            "100/100 [==============================] - 282s 3s/step - loss: 0.4138 - acc: 0.8365 - val_loss: 1.8526 - val_acc: 0.3976\n",
            "Epoch 12/30\n",
            " 99/100 [============================>.] - ETA: 1s - loss: 0.3633 - acc: 0.8506Epoch 1/30\n",
            "100/100 [==============================] - 280s 3s/step - loss: 0.3682 - acc: 0.8489 - val_loss: 2.5777 - val_acc: 0.2226\n",
            "Epoch 13/30\n",
            " 99/100 [============================>.] - ETA: 1s - loss: 0.3692 - acc: 0.8499Epoch 1/30\n",
            "100/100 [==============================] - 285s 3s/step - loss: 0.3705 - acc: 0.8488 - val_loss: 2.9721 - val_acc: 0.1444\n",
            "Epoch 14/30\n",
            " 99/100 [============================>.] - ETA: 1s - loss: 0.3439 - acc: 0.8680Epoch 1/30\n",
            "100/100 [==============================] - 281s 3s/step - loss: 0.3427 - acc: 0.8690 - val_loss: 2.2591 - val_acc: 0.3073\n",
            "Epoch 15/30\n",
            " 99/100 [============================>.] - ETA: 1s - loss: 0.3643 - acc: 0.8571Epoch 1/30\n",
            "100/100 [==============================] - 281s 3s/step - loss: 0.3639 - acc: 0.8572 - val_loss: 2.3362 - val_acc: 0.2436\n",
            "Epoch 16/30\n",
            " 99/100 [============================>.] - ETA: 1s - loss: 0.3680 - acc: 0.8493Epoch 1/30\n",
            "100/100 [==============================] - 282s 3s/step - loss: 0.3671 - acc: 0.8493 - val_loss: 2.6272 - val_acc: 0.1578\n",
            "Epoch 17/30\n",
            " 99/100 [============================>.] - ETA: 1s - loss: 0.3524 - acc: 0.8567Epoch 1/30\n",
            "100/100 [==============================] - 274s 3s/step - loss: 0.3514 - acc: 0.8576 - val_loss: 2.7177 - val_acc: 0.1654\n",
            "Epoch 18/30\n",
            " 99/100 [============================>.] - ETA: 1s - loss: 0.3338 - acc: 0.8638Epoch 1/30\n",
            "100/100 [==============================] - 295s 3s/step - loss: 0.3333 - acc: 0.8636 - val_loss: 2.4722 - val_acc: 0.2379\n",
            "Epoch 19/30\n",
            " 99/100 [============================>.] - ETA: 1s - loss: 0.3277 - acc: 0.8606Epoch 1/30\n",
            "100/100 [==============================] - 280s 3s/step - loss: 0.3308 - acc: 0.8598 - val_loss: 3.4511 - val_acc: 0.1081\n",
            "Epoch 20/30\n",
            " 99/100 [============================>.] - ETA: 1s - loss: 0.3341 - acc: 0.8680Epoch 1/30\n",
            "100/100 [==============================] - 278s 3s/step - loss: 0.3338 - acc: 0.8684 - val_loss: 2.2152 - val_acc: 0.3518\n",
            "Epoch 21/30\n",
            " 99/100 [============================>.] - ETA: 1s - loss: 0.3276 - acc: 0.8722Epoch 1/30\n",
            "100/100 [==============================] - 278s 3s/step - loss: 0.3273 - acc: 0.8725 - val_loss: 2.3999 - val_acc: 0.2710\n",
            "Epoch 22/30\n",
            " 99/100 [============================>.] - ETA: 1s - loss: 0.3069 - acc: 0.8799Epoch 1/30\n",
            "100/100 [==============================] - 275s 3s/step - loss: 0.3085 - acc: 0.8792 - val_loss: 3.0336 - val_acc: 0.1310\n",
            "Epoch 23/30\n",
            " 99/100 [============================>.] - ETA: 1s - loss: 0.3338 - acc: 0.8773Epoch 1/30\n",
            "100/100 [==============================] - 275s 3s/step - loss: 0.3322 - acc: 0.8776 - val_loss: 2.7289 - val_acc: 0.2481\n",
            "Epoch 24/30\n",
            " 99/100 [============================>.] - ETA: 1s - loss: 0.3033 - acc: 0.8789Epoch 1/30\n",
            "100/100 [==============================] - 277s 3s/step - loss: 0.3037 - acc: 0.8789 - val_loss: 2.1731 - val_acc: 0.4256\n",
            "Epoch 25/30\n",
            " 99/100 [============================>.] - ETA: 1s - loss: 0.3017 - acc: 0.8822Epoch 1/30\n",
            "100/100 [==============================] - 274s 3s/step - loss: 0.3043 - acc: 0.8815 - val_loss: 2.3854 - val_acc: 0.3658\n",
            "Epoch 26/30\n",
            " 99/100 [============================>.] - ETA: 1s - loss: 0.3007 - acc: 0.8833Epoch 1/30\n",
            "100/100 [==============================] - 274s 3s/step - loss: 0.3001 - acc: 0.8836 - val_loss: 2.4651 - val_acc: 0.2589\n",
            "Epoch 27/30\n",
            " 99/100 [============================>.] - ETA: 1s - loss: 0.3012 - acc: 0.8793Epoch 1/30\n",
            "100/100 [==============================] - 271s 3s/step - loss: 0.3022 - acc: 0.8792 - val_loss: 3.1772 - val_acc: 0.1412\n",
            "Epoch 28/30\n",
            " 99/100 [============================>.] - ETA: 1s - loss: 0.3021 - acc: 0.8867Epoch 1/30\n",
            "100/100 [==============================] - 265s 3s/step - loss: 0.3004 - acc: 0.8875 - val_loss: 2.4597 - val_acc: 0.2971\n",
            "Epoch 29/30\n",
            " 99/100 [============================>.] - ETA: 1s - loss: 0.3093 - acc: 0.8863Epoch 1/30\n",
            "100/100 [==============================] - 281s 3s/step - loss: 0.3080 - acc: 0.8862 - val_loss: 2.7993 - val_acc: 0.1966\n",
            "Epoch 30/30\n",
            " 99/100 [============================>.] - ETA: 1s - loss: 0.2918 - acc: 0.8849Epoch 1/30\n",
            "100/100 [==============================] - 280s 3s/step - loss: 0.2903 - acc: 0.8858 - val_loss: 3.0485 - val_acc: 0.1902\n"
          ],
          "name": "stdout"
        }
      ]
    },
    {
      "cell_type": "code",
      "metadata": {
        "id": "ztvI371PHYlw",
        "colab_type": "code",
        "colab": {
          "base_uri": "https://localhost:8080/",
          "height": 545
        },
        "outputId": "02b16868-6cdf-4fd0-c0e3-8d355f90f648"
      },
      "source": [
        "acc = history.history['acc']\n",
        "val_acc = history.history['val_acc']\n",
        "loss = history.history['loss']\n",
        "val_loss = history.history['val_loss']\n",
        "epochs = range(1, len(acc) + 1)\n",
        "plt.plot(epochs, acc, 'bo', label='Training acc')\n",
        "plt.plot(epochs, val_acc, 'b', label='Validation acc')\n",
        "plt.axis([0, 30, 0, 1])\n",
        "plt.title('Training and validation accuracy')\n",
        "plt.legend()\n",
        "plt.figure()\n",
        "plt.plot(epochs, loss, 'bo', label='Training loss')\n",
        "plt.plot(epochs, val_loss, 'b', label='Validation loss')\n",
        "plt.axis([0, 30, 0, 1])\n",
        "plt.title('Training and validation loss')\n",
        "plt.legend()\n",
        "plt.show()"
      ],
      "execution_count": 12,
      "outputs": [
        {
          "output_type": "display_data",
          "data": {
            "image/png": "[encoded data removed]",
            "text/plain": [
              "<Figure size 432x288 with 1 Axes>"
            ]
          },
          "metadata": {
            "tags": []
          }
        },
        {
          "output_type": "display_data",
          "data": {
            "image/png": "[encoded data removed]",
            "text/plain": [
              "<Figure size 432x288 with 1 Axes>"
            ]
          },
          "metadata": {
            "tags": []
          }
        }
      ]
    }
  ]
}